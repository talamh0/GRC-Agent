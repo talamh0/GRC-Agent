{
  "cells": [
    {
      "cell_type": "markdown",
      "metadata": {
        "id": "PFbuZNyJtYtu"
      },
      "source": [
        "## installations"
      ]
    },
    {
      "cell_type": "code",
      "execution_count": 1,
      "metadata": {
        "colab": {
          "base_uri": "https://localhost:8080/"
        },
        "id": "vk_l7rUwtteJ",
        "outputId": "7ee80202-9315-499a-fa4a-807833d6a396"
      },
      "outputs": [
        {
          "name": "stdout",
          "output_type": "stream",
          "text": [
            "\u001b[?25l     \u001b[90m━━━━━━━━━━━━━━━━━━━━━━━━━━━━━━━━━━━━━━━━\u001b[0m \u001b[32m0.0/42.0 kB\u001b[0m \u001b[31m?\u001b[0m eta \u001b[36m-:--:--\u001b[0m\r\u001b[2K     \u001b[90m━━━━━━━━━━━━━━━━━━━━━━━━━━━━━━━━━━━━━━━━\u001b[0m \u001b[32m42.0/42.0 kB\u001b[0m \u001b[31m3.7 MB/s\u001b[0m eta \u001b[36m0:00:00\u001b[0m\n",
            "\u001b[?25h  Preparing metadata (setup.py) ... \u001b[?25l\u001b[?25hdone\n",
            "\u001b[2K   \u001b[90m━━━━━━━━━━━━━━━━━━━━━━━━━━━━━━━━━━━━━━━━\u001b[0m \u001b[32m11.3/11.3 MB\u001b[0m \u001b[31m38.5 MB/s\u001b[0m eta \u001b[36m0:00:00\u001b[0m\n",
            "\u001b[2K   \u001b[90m━━━━━━━━━━━━━━━━━━━━━━━━━━━━━━━━━━━━━━━━\u001b[0m \u001b[32m61.3/61.3 MB\u001b[0m \u001b[31m8.4 MB/s\u001b[0m eta \u001b[36m0:00:00\u001b[0m\n",
            "\u001b[2K   \u001b[90m━━━━━━━━━━━━━━━━━━━━━━━━━━━━━━━━━━━━━━━━\u001b[0m \u001b[32m65.5/65.5 kB\u001b[0m \u001b[31m5.2 MB/s\u001b[0m eta \u001b[36m0:00:00\u001b[0m\n",
            "\u001b[?25h  Building wheel for google-search-results (setup.py) ... \u001b[?25l\u001b[?25hdone\n"
          ]
        }
      ],
      "source": [
        "!pip install --upgrade --quiet  langchain-huggingface text-generation transformers google-search-results numexpr langchainhub sentencepiece jinja2 bitsandbytes accelerate"
      ]
    },
    {
      "cell_type": "code",
      "execution_count": 2,
      "metadata": {
        "colab": {
          "base_uri": "https://localhost:8080/"
        },
        "collapsed": true,
        "id": "khQ7vCJztT9D",
        "outputId": "7860ead5-41f6-46e4-8fb5-e1ee77653531"
      },
      "outputs": [
        {
          "name": "stdout",
          "output_type": "stream",
          "text": [
            "Collecting ragas\n",
            "  Downloading ragas-0.3.2-py3-none-any.whl.metadata (21 kB)\n",
            "Requirement already satisfied: numpy in /usr/local/lib/python3.12/dist-packages (from ragas) (2.0.2)\n",
            "Requirement already satisfied: datasets in /usr/local/lib/python3.12/dist-packages (from ragas) (4.0.0)\n",
            "Requirement already satisfied: tiktoken in /usr/local/lib/python3.12/dist-packages (from ragas) (0.11.0)\n",
            "Requirement already satisfied: pydantic>=2.0.0 in /usr/local/lib/python3.12/dist-packages (from ragas) (2.11.7)\n",
            "Requirement already satisfied: nest-asyncio in /usr/local/lib/python3.12/dist-packages (from ragas) (1.6.0)\n",
            "Collecting appdirs (from ragas)\n",
            "  Downloading appdirs-1.4.4-py2.py3-none-any.whl.metadata (9.0 kB)\n",
            "Collecting diskcache>=5.6.3 (from ragas)\n",
            "  Downloading diskcache-5.6.3-py3-none-any.whl.metadata (20 kB)\n",
            "Requirement already satisfied: langchain in /usr/local/lib/python3.12/dist-packages (from ragas) (0.3.27)\n",
            "Requirement already satisfied: langchain-core in /usr/local/lib/python3.12/dist-packages (from ragas) (0.3.74)\n",
            "Collecting langchain-community (from ragas)\n",
            "  Downloading langchain_community-0.3.27-py3-none-any.whl.metadata (2.9 kB)\n",
            "Collecting langchain_openai (from ragas)\n",
            "  Downloading langchain_openai-0.3.31-py3-none-any.whl.metadata (2.4 kB)\n",
            "Requirement already satisfied: typer in /usr/local/lib/python3.12/dist-packages (from ragas) (0.16.0)\n",
            "Requirement already satisfied: rich in /usr/local/lib/python3.12/dist-packages (from ragas) (13.9.4)\n",
            "Requirement already satisfied: openai>=1.0.0 in /usr/local/lib/python3.12/dist-packages (from ragas) (1.100.0)\n",
            "Requirement already satisfied: tqdm in /usr/local/lib/python3.12/dist-packages (from ragas) (4.67.1)\n",
            "Collecting instructor (from ragas)\n",
            "  Downloading instructor-1.10.0-py3-none-any.whl.metadata (11 kB)\n",
            "Requirement already satisfied: gitpython in /usr/local/lib/python3.12/dist-packages (from ragas) (3.1.45)\n",
            "Requirement already satisfied: pillow>=10.4.0 in /usr/local/lib/python3.12/dist-packages (from ragas) (11.3.0)\n",
            "Requirement already satisfied: anyio<5,>=3.5.0 in /usr/local/lib/python3.12/dist-packages (from openai>=1.0.0->ragas) (4.10.0)\n",
            "Requirement already satisfied: distro<2,>=1.7.0 in /usr/local/lib/python3.12/dist-packages (from openai>=1.0.0->ragas) (1.9.0)\n",
            "Requirement already satisfied: httpx<1,>=0.23.0 in /usr/local/lib/python3.12/dist-packages (from openai>=1.0.0->ragas) (0.28.1)\n",
            "Requirement already satisfied: jiter<1,>=0.4.0 in /usr/local/lib/python3.12/dist-packages (from openai>=1.0.0->ragas) (0.10.0)\n",
            "Requirement already satisfied: sniffio in /usr/local/lib/python3.12/dist-packages (from openai>=1.0.0->ragas) (1.3.1)\n",
            "Requirement already satisfied: typing-extensions<5,>=4.11 in /usr/local/lib/python3.12/dist-packages (from openai>=1.0.0->ragas) (4.14.1)\n",
            "Requirement already satisfied: annotated-types>=0.6.0 in /usr/local/lib/python3.12/dist-packages (from pydantic>=2.0.0->ragas) (0.7.0)\n",
            "Requirement already satisfied: pydantic-core==2.33.2 in /usr/local/lib/python3.12/dist-packages (from pydantic>=2.0.0->ragas) (2.33.2)\n",
            "Requirement already satisfied: typing-inspection>=0.4.0 in /usr/local/lib/python3.12/dist-packages (from pydantic>=2.0.0->ragas) (0.4.1)\n",
            "Requirement already satisfied: filelock in /usr/local/lib/python3.12/dist-packages (from datasets->ragas) (3.19.1)\n",
            "Requirement already satisfied: pyarrow>=15.0.0 in /usr/local/lib/python3.12/dist-packages (from datasets->ragas) (18.1.0)\n",
            "Requirement already satisfied: dill<0.3.9,>=0.3.0 in /usr/local/lib/python3.12/dist-packages (from datasets->ragas) (0.3.8)\n",
            "Requirement already satisfied: pandas in /usr/local/lib/python3.12/dist-packages (from datasets->ragas) (2.2.2)\n",
            "Requirement already satisfied: requests>=2.32.2 in /usr/local/lib/python3.12/dist-packages (from datasets->ragas) (2.32.4)\n",
            "Requirement already satisfied: xxhash in /usr/local/lib/python3.12/dist-packages (from datasets->ragas) (3.5.0)\n",
            "Requirement already satisfied: multiprocess<0.70.17 in /usr/local/lib/python3.12/dist-packages (from datasets->ragas) (0.70.16)\n",
            "Requirement already satisfied: fsspec<=2025.3.0,>=2023.1.0 in /usr/local/lib/python3.12/dist-packages (from fsspec[http]<=2025.3.0,>=2023.1.0->datasets->ragas) (2025.3.0)\n",
            "Requirement already satisfied: huggingface-hub>=0.24.0 in /usr/local/lib/python3.12/dist-packages (from datasets->ragas) (0.34.4)\n",
            "Requirement already satisfied: packaging in /usr/local/lib/python3.12/dist-packages (from datasets->ragas) (24.2)\n",
            "Requirement already satisfied: pyyaml>=5.1 in /usr/local/lib/python3.12/dist-packages (from datasets->ragas) (6.0.2)\n",
            "Requirement already satisfied: gitdb<5,>=4.0.1 in /usr/local/lib/python3.12/dist-packages (from gitpython->ragas) (4.0.12)\n",
            "Requirement already satisfied: aiohttp<4.0.0,>=3.9.1 in /usr/local/lib/python3.12/dist-packages (from instructor->ragas) (3.12.15)\n",
            "Requirement already satisfied: docstring-parser<1.0,>=0.16 in /usr/local/lib/python3.12/dist-packages (from instructor->ragas) (0.17.0)\n",
            "Requirement already satisfied: jinja2<4.0.0,>=3.1.4 in /usr/local/lib/python3.12/dist-packages (from instructor->ragas) (3.1.6)\n",
            "Requirement already satisfied: tenacity<10.0.0,>=8.2.3 in /usr/local/lib/python3.12/dist-packages (from instructor->ragas) (8.5.0)\n",
            "Requirement already satisfied: markdown-it-py>=2.2.0 in /usr/local/lib/python3.12/dist-packages (from rich->ragas) (4.0.0)\n",
            "Requirement already satisfied: pygments<3.0.0,>=2.13.0 in /usr/local/lib/python3.12/dist-packages (from rich->ragas) (2.19.2)\n",
            "Requirement already satisfied: click>=8.0.0 in /usr/local/lib/python3.12/dist-packages (from typer->ragas) (8.2.1)\n",
            "Requirement already satisfied: shellingham>=1.3.0 in /usr/local/lib/python3.12/dist-packages (from typer->ragas) (1.5.4)\n",
            "Requirement already satisfied: langchain-text-splitters<1.0.0,>=0.3.9 in /usr/local/lib/python3.12/dist-packages (from langchain->ragas) (0.3.9)\n",
            "Requirement already satisfied: langsmith>=0.1.17 in /usr/local/lib/python3.12/dist-packages (from langchain->ragas) (0.4.14)\n",
            "Requirement already satisfied: SQLAlchemy<3,>=1.4 in /usr/local/lib/python3.12/dist-packages (from langchain->ragas) (2.0.43)\n",
            "Requirement already satisfied: jsonpatch<2.0,>=1.33 in /usr/local/lib/python3.12/dist-packages (from langchain-core->ragas) (1.33)\n",
            "Collecting dataclasses-json<0.7,>=0.5.7 (from langchain-community->ragas)\n",
            "  Downloading dataclasses_json-0.6.7-py3-none-any.whl.metadata (25 kB)\n",
            "Requirement already satisfied: pydantic-settings<3.0.0,>=2.4.0 in /usr/local/lib/python3.12/dist-packages (from langchain-community->ragas) (2.10.1)\n",
            "Requirement already satisfied: httpx-sse<1.0.0,>=0.4.0 in /usr/local/lib/python3.12/dist-packages (from langchain-community->ragas) (0.4.1)\n",
            "Requirement already satisfied: regex>=2022.1.18 in /usr/local/lib/python3.12/dist-packages (from tiktoken->ragas) (2024.11.6)\n",
            "Requirement already satisfied: aiohappyeyeballs>=2.5.0 in /usr/local/lib/python3.12/dist-packages (from aiohttp<4.0.0,>=3.9.1->instructor->ragas) (2.6.1)\n",
            "Requirement already satisfied: aiosignal>=1.4.0 in /usr/local/lib/python3.12/dist-packages (from aiohttp<4.0.0,>=3.9.1->instructor->ragas) (1.4.0)\n",
            "Requirement already satisfied: attrs>=17.3.0 in /usr/local/lib/python3.12/dist-packages (from aiohttp<4.0.0,>=3.9.1->instructor->ragas) (25.3.0)\n",
            "Requirement already satisfied: frozenlist>=1.1.1 in /usr/local/lib/python3.12/dist-packages (from aiohttp<4.0.0,>=3.9.1->instructor->ragas) (1.7.0)\n",
            "Requirement already satisfied: multidict<7.0,>=4.5 in /usr/local/lib/python3.12/dist-packages (from aiohttp<4.0.0,>=3.9.1->instructor->ragas) (6.6.4)\n",
            "Requirement already satisfied: propcache>=0.2.0 in /usr/local/lib/python3.12/dist-packages (from aiohttp<4.0.0,>=3.9.1->instructor->ragas) (0.3.2)\n",
            "Requirement already satisfied: yarl<2.0,>=1.17.0 in /usr/local/lib/python3.12/dist-packages (from aiohttp<4.0.0,>=3.9.1->instructor->ragas) (1.20.1)\n",
            "Requirement already satisfied: idna>=2.8 in /usr/local/lib/python3.12/dist-packages (from anyio<5,>=3.5.0->openai>=1.0.0->ragas) (3.10)\n",
            "Collecting marshmallow<4.0.0,>=3.18.0 (from dataclasses-json<0.7,>=0.5.7->langchain-community->ragas)\n",
            "  Downloading marshmallow-3.26.1-py3-none-any.whl.metadata (7.3 kB)\n",
            "Collecting typing-inspect<1,>=0.4.0 (from dataclasses-json<0.7,>=0.5.7->langchain-community->ragas)\n",
            "  Downloading typing_inspect-0.9.0-py3-none-any.whl.metadata (1.5 kB)\n",
            "Requirement already satisfied: smmap<6,>=3.0.1 in /usr/local/lib/python3.12/dist-packages (from gitdb<5,>=4.0.1->gitpython->ragas) (5.0.2)\n",
            "Requirement already satisfied: certifi in /usr/local/lib/python3.12/dist-packages (from httpx<1,>=0.23.0->openai>=1.0.0->ragas) (2025.8.3)\n",
            "Requirement already satisfied: httpcore==1.* in /usr/local/lib/python3.12/dist-packages (from httpx<1,>=0.23.0->openai>=1.0.0->ragas) (1.0.9)\n",
            "Requirement already satisfied: h11>=0.16 in /usr/local/lib/python3.12/dist-packages (from httpcore==1.*->httpx<1,>=0.23.0->openai>=1.0.0->ragas) (0.16.0)\n",
            "Requirement already satisfied: hf-xet<2.0.0,>=1.1.3 in /usr/local/lib/python3.12/dist-packages (from huggingface-hub>=0.24.0->datasets->ragas) (1.1.7)\n",
            "Requirement already satisfied: MarkupSafe>=2.0 in /usr/local/lib/python3.12/dist-packages (from jinja2<4.0.0,>=3.1.4->instructor->ragas) (3.0.2)\n",
            "Requirement already satisfied: jsonpointer>=1.9 in /usr/local/lib/python3.12/dist-packages (from jsonpatch<2.0,>=1.33->langchain-core->ragas) (3.0.0)\n",
            "Requirement already satisfied: orjson>=3.9.14 in /usr/local/lib/python3.12/dist-packages (from langsmith>=0.1.17->langchain->ragas) (3.11.2)\n",
            "Requirement already satisfied: requests-toolbelt>=1.0.0 in /usr/local/lib/python3.12/dist-packages (from langsmith>=0.1.17->langchain->ragas) (1.0.0)\n",
            "Requirement already satisfied: zstandard>=0.23.0 in /usr/local/lib/python3.12/dist-packages (from langsmith>=0.1.17->langchain->ragas) (0.24.0)\n",
            "Requirement already satisfied: mdurl~=0.1 in /usr/local/lib/python3.12/dist-packages (from markdown-it-py>=2.2.0->rich->ragas) (0.1.2)\n",
            "Requirement already satisfied: python-dotenv>=0.21.0 in /usr/local/lib/python3.12/dist-packages (from pydantic-settings<3.0.0,>=2.4.0->langchain-community->ragas) (1.1.1)\n",
            "Requirement already satisfied: charset_normalizer<4,>=2 in /usr/local/lib/python3.12/dist-packages (from requests>=2.32.2->datasets->ragas) (3.4.3)\n",
            "Requirement already satisfied: urllib3<3,>=1.21.1 in /usr/local/lib/python3.12/dist-packages (from requests>=2.32.2->datasets->ragas) (2.5.0)\n",
            "Requirement already satisfied: greenlet>=1 in /usr/local/lib/python3.12/dist-packages (from SQLAlchemy<3,>=1.4->langchain->ragas) (3.2.4)\n",
            "Requirement already satisfied: python-dateutil>=2.8.2 in /usr/local/lib/python3.12/dist-packages (from pandas->datasets->ragas) (2.9.0.post0)\n",
            "Requirement already satisfied: pytz>=2020.1 in /usr/local/lib/python3.12/dist-packages (from pandas->datasets->ragas) (2025.2)\n",
            "Requirement already satisfied: tzdata>=2022.7 in /usr/local/lib/python3.12/dist-packages (from pandas->datasets->ragas) (2025.2)\n",
            "Requirement already satisfied: six>=1.5 in /usr/local/lib/python3.12/dist-packages (from python-dateutil>=2.8.2->pandas->datasets->ragas) (1.17.0)\n",
            "Collecting mypy-extensions>=0.3.0 (from typing-inspect<1,>=0.4.0->dataclasses-json<0.7,>=0.5.7->langchain-community->ragas)\n",
            "  Downloading mypy_extensions-1.1.0-py3-none-any.whl.metadata (1.1 kB)\n",
            "Downloading ragas-0.3.2-py3-none-any.whl (277 kB)\n",
            "\u001b[2K   \u001b[90m━━━━━━━━━━━━━━━━━━━━━━━━━━━━━━━━━━━━━━━━\u001b[0m \u001b[32m277.3/277.3 kB\u001b[0m \u001b[31m22.6 MB/s\u001b[0m eta \u001b[36m0:00:00\u001b[0m\n",
            "\u001b[?25hDownloading diskcache-5.6.3-py3-none-any.whl (45 kB)\n",
            "\u001b[2K   \u001b[90m━━━━━━━━━━━━━━━━━━━━━━━━━━━━━━━━━━━━━━━━\u001b[0m \u001b[32m45.5/45.5 kB\u001b[0m \u001b[31m4.1 MB/s\u001b[0m eta \u001b[36m0:00:00\u001b[0m\n",
            "\u001b[?25hDownloading appdirs-1.4.4-py2.py3-none-any.whl (9.6 kB)\n",
            "Downloading instructor-1.10.0-py3-none-any.whl (119 kB)\n",
            "\u001b[2K   \u001b[90m━━━━━━━━━━━━━━━━━━━━━━━━━━━━━━━━━━━━━━━━\u001b[0m \u001b[32m119.5/119.5 kB\u001b[0m \u001b[31m13.1 MB/s\u001b[0m eta \u001b[36m0:00:00\u001b[0m\n",
            "\u001b[?25hDownloading langchain_community-0.3.27-py3-none-any.whl (2.5 MB)\n",
            "\u001b[2K   \u001b[90m━━━━━━━━━━━━━━━━━━━━━━━━━━━━━━━━━━━━━━━━\u001b[0m \u001b[32m2.5/2.5 MB\u001b[0m \u001b[31m82.1 MB/s\u001b[0m eta \u001b[36m0:00:00\u001b[0m\n",
            "\u001b[?25hDownloading langchain_openai-0.3.31-py3-none-any.whl (74 kB)\n",
            "\u001b[2K   \u001b[90m━━━━━━━━━━━━━━━━━━━━━━━━━━━━━━━━━━━━━━━━\u001b[0m \u001b[32m74.5/74.5 kB\u001b[0m \u001b[31m8.2 MB/s\u001b[0m eta \u001b[36m0:00:00\u001b[0m\n",
            "\u001b[?25hDownloading dataclasses_json-0.6.7-py3-none-any.whl (28 kB)\n",
            "Downloading marshmallow-3.26.1-py3-none-any.whl (50 kB)\n",
            "\u001b[2K   \u001b[90m━━━━━━━━━━━━━━━━━━━━━━━━━━━━━━━━━━━━━━━━\u001b[0m \u001b[32m50.9/50.9 kB\u001b[0m \u001b[31m5.5 MB/s\u001b[0m eta \u001b[36m0:00:00\u001b[0m\n",
            "\u001b[?25hDownloading typing_inspect-0.9.0-py3-none-any.whl (8.8 kB)\n",
            "Downloading mypy_extensions-1.1.0-py3-none-any.whl (5.0 kB)\n",
            "Installing collected packages: appdirs, mypy-extensions, marshmallow, diskcache, typing-inspect, dataclasses-json, instructor, langchain_openai, langchain-community, ragas\n",
            "Successfully installed appdirs-1.4.4 dataclasses-json-0.6.7 diskcache-5.6.3 instructor-1.10.0 langchain-community-0.3.27 langchain_openai-0.3.31 marshmallow-3.26.1 mypy-extensions-1.1.0 ragas-0.3.2 typing-inspect-0.9.0\n"
          ]
        }
      ],
      "source": [
        "!pip install ragas"
      ]
    },
    {
      "cell_type": "code",
      "execution_count": 33,
      "metadata": {
        "colab": {
          "base_uri": "https://localhost:8080/"
        },
        "id": "w0yzbGeA57P1",
        "outputId": "f3b3ea27-122a-4285-9495-ca21cd76efa0"
      },
      "outputs": [
        {
          "name": "stdout",
          "output_type": "stream",
          "text": [
            "Collecting rapidfuzz\n",
            "  Downloading rapidfuzz-3.13.0-cp312-cp312-manylinux_2_17_x86_64.manylinux2014_x86_64.whl.metadata (12 kB)\n",
            "Downloading rapidfuzz-3.13.0-cp312-cp312-manylinux_2_17_x86_64.manylinux2014_x86_64.whl (3.1 MB)\n",
            "\u001b[?25l   \u001b[90m━━━━━━━━━━━━━━━━━━━━━━━━━━━━━━━━━━━━━━━━\u001b[0m \u001b[32m0.0/3.1 MB\u001b[0m \u001b[31m?\u001b[0m eta \u001b[36m-:--:--\u001b[0m\r\u001b[2K   \u001b[91m━━━━━━━━━━━━━━━━━━━━━━━━━━━━━━━━━━━━━━━\u001b[0m\u001b[91m╸\u001b[0m \u001b[32m3.1/3.1 MB\u001b[0m \u001b[31m102.9 MB/s\u001b[0m eta \u001b[36m0:00:01\u001b[0m\r\u001b[2K   \u001b[90m━━━━━━━━━━━━━━━━━━━━━━━━━━━━━━━━━━━━━━━━\u001b[0m \u001b[32m3.1/3.1 MB\u001b[0m \u001b[31m62.4 MB/s\u001b[0m eta \u001b[36m0:00:00\u001b[0m\n",
            "\u001b[?25hInstalling collected packages: rapidfuzz\n",
            "Successfully installed rapidfuzz-3.13.0\n"
          ]
        }
      ],
      "source": [
        "!pip install rapidfuzz"
      ]
    },
    {
      "cell_type": "code",
      "execution_count": 39,
      "metadata": {
        "colab": {
          "base_uri": "https://localhost:8080/"
        },
        "collapsed": true,
        "id": "BVVg65NA_O2P",
        "outputId": "eb1334e6-e78a-4a97-c0b6-85e6f3a2a1f2"
      },
      "outputs": [
        {
          "name": "stdout",
          "output_type": "stream",
          "text": [
            "Collecting langchain-deepseek\n",
            "  Downloading langchain_deepseek-0.1.4-py3-none-any.whl.metadata (1.1 kB)\n",
            "Requirement already satisfied: langchain-core<1.0.0,>=0.3.70 in /usr/local/lib/python3.12/dist-packages (from langchain-deepseek) (0.3.74)\n",
            "Requirement already satisfied: langchain-openai<1.0.0,>=0.3.28 in /usr/local/lib/python3.12/dist-packages (from langchain-deepseek) (0.3.31)\n",
            "Requirement already satisfied: langsmith>=0.3.45 in /usr/local/lib/python3.12/dist-packages (from langchain-core<1.0.0,>=0.3.70->langchain-deepseek) (0.4.14)\n",
            "Requirement already satisfied: tenacity!=8.4.0,<10.0.0,>=8.1.0 in /usr/local/lib/python3.12/dist-packages (from langchain-core<1.0.0,>=0.3.70->langchain-deepseek) (8.5.0)\n",
            "Requirement already satisfied: jsonpatch<2.0,>=1.33 in /usr/local/lib/python3.12/dist-packages (from langchain-core<1.0.0,>=0.3.70->langchain-deepseek) (1.33)\n",
            "Requirement already satisfied: PyYAML>=5.3 in /usr/local/lib/python3.12/dist-packages (from langchain-core<1.0.0,>=0.3.70->langchain-deepseek) (6.0.2)\n",
            "Requirement already satisfied: typing-extensions>=4.7 in /usr/local/lib/python3.12/dist-packages (from langchain-core<1.0.0,>=0.3.70->langchain-deepseek) (4.14.1)\n",
            "Requirement already satisfied: packaging>=23.2 in /usr/local/lib/python3.12/dist-packages (from langchain-core<1.0.0,>=0.3.70->langchain-deepseek) (24.2)\n",
            "Requirement already satisfied: pydantic>=2.7.4 in /usr/local/lib/python3.12/dist-packages (from langchain-core<1.0.0,>=0.3.70->langchain-deepseek) (2.11.7)\n",
            "Requirement already satisfied: openai<2.0.0,>=1.99.9 in /usr/local/lib/python3.12/dist-packages (from langchain-openai<1.0.0,>=0.3.28->langchain-deepseek) (1.100.0)\n",
            "Requirement already satisfied: tiktoken<1,>=0.7 in /usr/local/lib/python3.12/dist-packages (from langchain-openai<1.0.0,>=0.3.28->langchain-deepseek) (0.11.0)\n",
            "Requirement already satisfied: jsonpointer>=1.9 in /usr/local/lib/python3.12/dist-packages (from jsonpatch<2.0,>=1.33->langchain-core<1.0.0,>=0.3.70->langchain-deepseek) (3.0.0)\n",
            "Requirement already satisfied: httpx<1,>=0.23.0 in /usr/local/lib/python3.12/dist-packages (from langsmith>=0.3.45->langchain-core<1.0.0,>=0.3.70->langchain-deepseek) (0.28.1)\n",
            "Requirement already satisfied: orjson>=3.9.14 in /usr/local/lib/python3.12/dist-packages (from langsmith>=0.3.45->langchain-core<1.0.0,>=0.3.70->langchain-deepseek) (3.11.2)\n",
            "Requirement already satisfied: requests-toolbelt>=1.0.0 in /usr/local/lib/python3.12/dist-packages (from langsmith>=0.3.45->langchain-core<1.0.0,>=0.3.70->langchain-deepseek) (1.0.0)\n",
            "Requirement already satisfied: requests>=2.0.0 in /usr/local/lib/python3.12/dist-packages (from langsmith>=0.3.45->langchain-core<1.0.0,>=0.3.70->langchain-deepseek) (2.32.4)\n",
            "Requirement already satisfied: zstandard>=0.23.0 in /usr/local/lib/python3.12/dist-packages (from langsmith>=0.3.45->langchain-core<1.0.0,>=0.3.70->langchain-deepseek) (0.24.0)\n",
            "Requirement already satisfied: anyio<5,>=3.5.0 in /usr/local/lib/python3.12/dist-packages (from openai<2.0.0,>=1.99.9->langchain-openai<1.0.0,>=0.3.28->langchain-deepseek) (4.10.0)\n",
            "Requirement already satisfied: distro<2,>=1.7.0 in /usr/local/lib/python3.12/dist-packages (from openai<2.0.0,>=1.99.9->langchain-openai<1.0.0,>=0.3.28->langchain-deepseek) (1.9.0)\n",
            "Requirement already satisfied: jiter<1,>=0.4.0 in /usr/local/lib/python3.12/dist-packages (from openai<2.0.0,>=1.99.9->langchain-openai<1.0.0,>=0.3.28->langchain-deepseek) (0.10.0)\n",
            "Requirement already satisfied: sniffio in /usr/local/lib/python3.12/dist-packages (from openai<2.0.0,>=1.99.9->langchain-openai<1.0.0,>=0.3.28->langchain-deepseek) (1.3.1)\n",
            "Requirement already satisfied: tqdm>4 in /usr/local/lib/python3.12/dist-packages (from openai<2.0.0,>=1.99.9->langchain-openai<1.0.0,>=0.3.28->langchain-deepseek) (4.67.1)\n",
            "Requirement already satisfied: annotated-types>=0.6.0 in /usr/local/lib/python3.12/dist-packages (from pydantic>=2.7.4->langchain-core<1.0.0,>=0.3.70->langchain-deepseek) (0.7.0)\n",
            "Requirement already satisfied: pydantic-core==2.33.2 in /usr/local/lib/python3.12/dist-packages (from pydantic>=2.7.4->langchain-core<1.0.0,>=0.3.70->langchain-deepseek) (2.33.2)\n",
            "Requirement already satisfied: typing-inspection>=0.4.0 in /usr/local/lib/python3.12/dist-packages (from pydantic>=2.7.4->langchain-core<1.0.0,>=0.3.70->langchain-deepseek) (0.4.1)\n",
            "Requirement already satisfied: regex>=2022.1.18 in /usr/local/lib/python3.12/dist-packages (from tiktoken<1,>=0.7->langchain-openai<1.0.0,>=0.3.28->langchain-deepseek) (2024.11.6)\n",
            "Requirement already satisfied: idna>=2.8 in /usr/local/lib/python3.12/dist-packages (from anyio<5,>=3.5.0->openai<2.0.0,>=1.99.9->langchain-openai<1.0.0,>=0.3.28->langchain-deepseek) (3.10)\n",
            "Requirement already satisfied: certifi in /usr/local/lib/python3.12/dist-packages (from httpx<1,>=0.23.0->langsmith>=0.3.45->langchain-core<1.0.0,>=0.3.70->langchain-deepseek) (2025.8.3)\n",
            "Requirement already satisfied: httpcore==1.* in /usr/local/lib/python3.12/dist-packages (from httpx<1,>=0.23.0->langsmith>=0.3.45->langchain-core<1.0.0,>=0.3.70->langchain-deepseek) (1.0.9)\n",
            "Requirement already satisfied: h11>=0.16 in /usr/local/lib/python3.12/dist-packages (from httpcore==1.*->httpx<1,>=0.23.0->langsmith>=0.3.45->langchain-core<1.0.0,>=0.3.70->langchain-deepseek) (0.16.0)\n",
            "Requirement already satisfied: charset_normalizer<4,>=2 in /usr/local/lib/python3.12/dist-packages (from requests>=2.0.0->langsmith>=0.3.45->langchain-core<1.0.0,>=0.3.70->langchain-deepseek) (3.4.3)\n",
            "Requirement already satisfied: urllib3<3,>=1.21.1 in /usr/local/lib/python3.12/dist-packages (from requests>=2.0.0->langsmith>=0.3.45->langchain-core<1.0.0,>=0.3.70->langchain-deepseek) (2.5.0)\n",
            "Downloading langchain_deepseek-0.1.4-py3-none-any.whl (7.4 kB)\n",
            "Installing collected packages: langchain-deepseek\n",
            "Successfully installed langchain-deepseek-0.1.4\n"
          ]
        }
      ],
      "source": [
        "!pip install -U langchain-deepseek"
      ]
    },
    {
      "cell_type": "code",
      "execution_count": null,
      "metadata": {},
      "outputs": [],
      "source": [
        "!pip install python-dotenv"
      ]
    },
    {
      "cell_type": "markdown",
      "metadata": {
        "id": "jNSzX3UItbkT"
      },
      "source": [
        "## imports"
      ]
    },
    {
      "cell_type": "code",
      "execution_count": 31,
      "metadata": {
        "id": "AEmoxf1nta6J"
      },
      "outputs": [],
      "source": [
        "# llm\n",
        "from ragas.metrics import ResponseGroundedness, AnswerAccuracy, LLMContextPrecisionWithReference, LLMContextRecall\n",
        "\n",
        "from ragas.llms import LangchainLLMWrapper\n",
        "from ragas import evaluate\n",
        "from ragas import EvaluationDataset\n",
        "from langchain.chat_models import init_chat_model"
      ]
    },
    {
      "cell_type": "code",
      "execution_count": null,
      "metadata": {
        "id": "RYe1jiyMxMHg"
      },
      "outputs": [],
      "source": [
        "import os\n",
        "from dotenv import load_dotenv\n",
        "import pandas as pd\n",
        "import ast\n",
        "import matplotlib.pyplot as plt\n",
        "from matplotlib import cm"
      ]
    },
    {
      "cell_type": "markdown",
      "metadata": {
        "id": "PH7kYjmrtz1R"
      },
      "source": [
        "## set up variables"
      ]
    },
    {
      "cell_type": "code",
      "execution_count": null,
      "metadata": {
        "id": "t8mxRuAs-2Wt"
      },
      "outputs": [],
      "source": [
        "# Load environment variables\n",
        "load_dotenv()"
      ]
    },
    {
      "cell_type": "code",
      "execution_count": 30,
      "metadata": {
        "id": "IQB8l43I0bNO"
      },
      "outputs": [],
      "source": [
        "dataset = pd.read_excel(\"/content/evaluation_dataset_full_xlsx.xlsx\")\n",
        "dataset['reference_contexts'] = dataset['reference_contexts'].apply(ast.literal_eval)\n",
        "dataset['retrieved_contexts'] = dataset['retrieved_contexts'].apply(ast.literal_eval)\n",
        "evaluation_dataset = EvaluationDataset.from_pandas(dataset.drop(columns=[\"reference control\", \"source\"]))\n",
        "\n",
        "# dataset.drop(columns=[\"reference control\", \"source\"]).head(2)\n"
      ]
    },
    {
      "cell_type": "code",
      "execution_count": 43,
      "metadata": {
        "id": "I7a_59Z95zaz"
      },
      "outputs": [],
      "source": [
        "metrics = [\n",
        "    ResponseGroundedness(),\n",
        "    AnswerAccuracy(),\n",
        "    LLMContextPrecisionWithReference(),\n",
        "    LLMContextRecall()\n",
        "]"
      ]
    },
    {
      "cell_type": "code",
      "execution_count": 51,
      "metadata": {
        "id": "DTHXn6ywKnRG"
      },
      "outputs": [],
      "source": [
        "llm = init_chat_model(\"deepseek-chat\", model_provider=\"deepseek\", request_timeout=800  )\n",
        "\n",
        "evaluator_llm = LangchainLLMWrapper(llm)"
      ]
    },
    {
      "cell_type": "markdown",
      "metadata": {
        "id": "SkmGETuy5ev_"
      },
      "source": [
        "## evaluate"
      ]
    },
    {
      "cell_type": "markdown",
      "metadata": {
        "id": "Un42b98Ieo8p"
      },
      "source": [
        "##### first try"
      ]
    },
    {
      "cell_type": "code",
      "execution_count": 36,
      "metadata": {
        "colab": {
          "base_uri": "https://localhost:8080/"
        },
        "id": "jPcvNOti6LF7",
        "outputId": "81d73919-3f41-4c4d-d972-876c8bc508e6"
      },
      "outputs": [
        {
          "data": {
            "text/plain": [
              "{'non_llm_context_precision_with_reference': 0.5710, 'non_llm_context_recall': 0.4737, 'noise_sensitivity(mode=relevant)': nan, 'nv_response_groundedness': nan, 'nv_accuracy': nan}"
            ]
          },
          "execution_count": 36,
          "metadata": {},
          "output_type": "execute_result"
        }
      ],
      "source": [
        "# result"
      ]
    },
    {
      "cell_type": "markdown",
      "metadata": {
        "id": "vzQsrxgC-0Z0"
      },
      "source": [
        "##### second try"
      ]
    },
    {
      "cell_type": "code",
      "execution_count": 50,
      "metadata": {
        "colab": {
          "base_uri": "https://localhost:8080/"
        },
        "id": "MUjoj0QhAfNg",
        "outputId": "1f721bc1-170a-4b2e-f162-cc5bb22f9d49"
      },
      "outputs": [
        {
          "data": {
            "text/plain": [
              "{'non_llm_context_precision_with_reference': 0.5710, 'non_llm_context_recall': 0.4737, 'noise_sensitivity(mode=relevant)': nan, 'nv_response_groundedness': 0.5236, 'nv_accuracy': 0.6250, 'llm_context_precision_with_reference': 0.6601, 'context_recall': 0.8236}"
            ]
          },
          "execution_count": 50,
          "metadata": {},
          "output_type": "execute_result"
        }
      ],
      "source": [
        "# result_2"
      ]
    },
    {
      "cell_type": "markdown",
      "metadata": {
        "id": "YEAr3jsMKk5i"
      },
      "source": [
        "##### third try"
      ]
    },
    {
      "cell_type": "code",
      "execution_count": 52,
      "metadata": {
        "colab": {
          "base_uri": "https://localhost:8080/",
          "height": 1000,
          "referenced_widgets": [
            "ff91d3ef97d4457caa1ce5425ec97f9d",
            "ca5951e306624c4a9713b666b9206fda",
            "00b409f756a74b27ae8917e0c09618de",
            "8004f0a391a24f83831d203c1b9d1f85",
            "b6b404345b704b33bc012a4bc7f6af3a",
            "672e278a7a7f47daa9976342303e8ba8",
            "879a30bd390b4be4bb8b7938fd835291",
            "9ed8ab92b61848078778792b6af7d02f",
            "d6bae3b04f0a4a9f9cd5b7e4050b1acf",
            "e3b816b08551413782d784c45b1a1ab6",
            "7ed7aaa9a2704ee8ade676528a2c0ba2"
          ]
        },
        "collapsed": true,
        "id": "e2AroyFAKx_o",
        "outputId": "a5b7c250-96dd-4aa4-e5ea-bb191e1816e1"
      },
      "outputs": [
        {
          "data": {
            "application/vnd.jupyter.widget-view+json": {
              "model_id": "ff91d3ef97d4457caa1ce5425ec97f9d",
              "version_major": 2,
              "version_minor": 0
            },
            "text/plain": [
              "Evaluating:   0%|          | 0/742 [00:00<?, ?it/s]"
            ]
          },
          "metadata": {},
          "output_type": "display_data"
        },
        {
          "name": "stderr",
          "output_type": "stream",
          "text": [
            "ERROR:ragas.executor:Exception raised in Job[2]: TimeoutError()\n",
            "ERROR:ragas.executor:Exception raised in Job[9]: TimeoutError()\n",
            "ERROR:ragas.executor:Exception raised in Job[16]: TimeoutError()\n",
            "ERROR:ragas.executor:Exception raised in Job[23]: TimeoutError()\n",
            "ERROR:ragas.executor:Exception raised in Job[30]: TimeoutError()\n",
            "ERROR:ragas.executor:Exception raised in Job[37]: TimeoutError()\n",
            "ERROR:ragas.executor:Exception raised in Job[44]: TimeoutError()\n",
            "ERROR:ragas.executor:Exception raised in Job[51]: TimeoutError()\n",
            "ERROR:ragas.executor:Exception raised in Job[58]: TimeoutError()\n",
            "ERROR:ragas.executor:Exception raised in Job[65]: TimeoutError()\n",
            "ERROR:ragas.executor:Exception raised in Job[72]: TimeoutError()\n",
            "ERROR:ragas.executor:Exception raised in Job[79]: TimeoutError()\n",
            "ERROR:ragas.executor:Exception raised in Job[86]: TimeoutError()\n",
            "ERROR:ragas.executor:Exception raised in Job[93]: TimeoutError()\n",
            "ERROR:ragas.executor:Exception raised in Job[100]: TimeoutError()\n",
            "ERROR:ragas.executor:Exception raised in Job[107]: TimeoutError()\n",
            "ERROR:ragas.executor:Exception raised in Job[114]: TimeoutError()\n",
            "ERROR:ragas.executor:Exception raised in Job[121]: TimeoutError()\n",
            "ERROR:ragas.executor:Exception raised in Job[128]: TimeoutError()\n",
            "ERROR:ragas.executor:Exception raised in Job[135]: TimeoutError()\n",
            "ERROR:ragas.executor:Exception raised in Job[142]: TimeoutError()\n",
            "ERROR:ragas.executor:Exception raised in Job[149]: TimeoutError()\n",
            "ERROR:ragas.executor:Exception raised in Job[156]: TimeoutError()\n",
            "ERROR:ragas.executor:Exception raised in Job[163]: TimeoutError()\n",
            "ERROR:ragas.executor:Exception raised in Job[170]: TimeoutError()\n",
            "ERROR:ragas.executor:Exception raised in Job[177]: TimeoutError()\n",
            "ERROR:ragas.executor:Exception raised in Job[184]: TimeoutError()\n",
            "ERROR:ragas.executor:Exception raised in Job[191]: TimeoutError()\n",
            "ERROR:ragas.executor:Exception raised in Job[198]: TimeoutError()\n",
            "ERROR:ragas.executor:Exception raised in Job[205]: TimeoutError()\n",
            "ERROR:ragas.executor:Exception raised in Job[212]: TimeoutError()\n",
            "ERROR:ragas.executor:Exception raised in Job[219]: TimeoutError()\n",
            "ERROR:ragas.executor:Exception raised in Job[226]: TimeoutError()\n",
            "ERROR:ragas.executor:Exception raised in Job[233]: TimeoutError()\n",
            "ERROR:ragas.executor:Exception raised in Job[240]: TimeoutError()\n",
            "ERROR:ragas.executor:Exception raised in Job[247]: TimeoutError()\n",
            "ERROR:ragas.executor:Exception raised in Job[254]: TimeoutError()\n",
            "ERROR:ragas.executor:Exception raised in Job[261]: TimeoutError()\n",
            "ERROR:ragas.executor:Exception raised in Job[268]: TimeoutError()\n",
            "ERROR:ragas.executor:Exception raised in Job[275]: TimeoutError()\n",
            "ERROR:ragas.executor:Exception raised in Job[282]: TimeoutError()\n",
            "ERROR:ragas.executor:Exception raised in Job[289]: TimeoutError()\n",
            "ERROR:ragas.executor:Exception raised in Job[296]: TimeoutError()\n",
            "ERROR:ragas.executor:Exception raised in Job[303]: TimeoutError()\n",
            "ERROR:ragas.executor:Exception raised in Job[310]: TimeoutError()\n",
            "ERROR:ragas.executor:Exception raised in Job[317]: TimeoutError()\n",
            "ERROR:ragas.executor:Exception raised in Job[324]: TimeoutError()\n",
            "ERROR:ragas.executor:Exception raised in Job[331]: TimeoutError()\n",
            "ERROR:ragas.executor:Exception raised in Job[338]: TimeoutError()\n",
            "ERROR:ragas.executor:Exception raised in Job[345]: TimeoutError()\n",
            "ERROR:ragas.executor:Exception raised in Job[352]: TimeoutError()\n",
            "ERROR:ragas.executor:Exception raised in Job[359]: TimeoutError()\n",
            "ERROR:ragas.executor:Exception raised in Job[366]: TimeoutError()\n",
            "ERROR:ragas.executor:Exception raised in Job[373]: TimeoutError()\n",
            "ERROR:ragas.executor:Exception raised in Job[380]: TimeoutError()\n",
            "ERROR:ragas.executor:Exception raised in Job[387]: TimeoutError()\n",
            "ERROR:ragas.executor:Exception raised in Job[394]: TimeoutError()\n",
            "ERROR:ragas.executor:Exception raised in Job[401]: TimeoutError()\n",
            "ERROR:ragas.executor:Exception raised in Job[408]: TimeoutError()\n",
            "ERROR:ragas.executor:Exception raised in Job[415]: TimeoutError()\n",
            "ERROR:ragas.executor:Exception raised in Job[422]: TimeoutError()\n",
            "ERROR:ragas.executor:Exception raised in Job[429]: TimeoutError()\n",
            "ERROR:ragas.executor:Exception raised in Job[436]: TimeoutError()\n",
            "ERROR:ragas.executor:Exception raised in Job[464]: OutputParserException(Failed to parse StringIO from completion {\"statements\": [\"Based on the approved controls, particularly Control 1-1, the documentation that proves the organization has an approved cybersecurity strategy includes key documents.\", \"The primary evidence documents include an approved cybersecurity strategy document.\", \"The approved cybersecurity strategy document is a formal strategy document bearing official approval stamps or signatures.\", \"The approved cybersecurity strategy document is signed by an authorized authority such as the Head of Organization or a designated official.\", \"The approved cybersecurity strategy document has clear version control and an issuance date.\", \"The primary evidence documents include approval and authorization records.\", \"The approval and authorization records include official approval minutes from governance meetings.\", \"The approval and authorization records include an authorization letter from the highest authority.\", \"The approval and authorization records include a board resolution adopting the strategy, if applicable.\", \"Supporting implementation documents include strategic alignment evidence.\", \"The strategic alignment evidence includes mapping to national cybersecurity regulations.\", \"The strategic alignment evidence includes alignment with organizational business objectives.\", \"The strategic alignment evidence includes risk assessment references supporting strategic priorities.\", \"Supporting implementation documents include an implementation roadmap.\", \"The implementation roadmap includes detailed action plans with timelines.\", \"The implementation roadmap includes resource allocation documents for budget and personnel.\", \"The implementation roadmap includes project initiation documents for strategic initiatives.\", \"Governance and compliance proof includes a policy framework.\", \"The policy framework includes a cybersecurity policy referencing the approved strategy.\", \"The policy framework includes related policies such as risk management and incident response policies.\", \"The policy framework includes compliance statements with regulatory requirements.\", \"Governance and compliance proof includes performance monitoring.\", \"Performance monitoring includes KPIs and metrics aligned with strategic objectives.\", \"Performance monitoring includes regular review reports presented to management.\", \"Performance monitoring includes audit reports validating strategy implementation.\", \"Key contents of valid documentation include essential strategy elements.\", \"Essential strategy elements include vision and mission statements for cybersecurity.\", \"Essential strategy elements include strategic objectives and goals.\", \"Essential strategy elements include a risk treatment approach.\", \"Essential strategy elements include resource commitment evidence.\", \"Key contents of valid documentation include implementation evidence.\", \"Implementation evidence includes annual cybersecurity plans derived from strategy.\", \"Implementation evidence includes budget allocation documents supporting strategy.\", \"Implementation evidence includes staff roles and responsibilities aligned with strategy.\", \"Validation requirements include a current validity period, typically three to five years.\", \"Validation requirements include regular review and update evidence.\", \"Validation requirements include organization-wide communication proof.\", \"Approval authority evidence includes signatures from authorized officials.\", \"Approval authority evidence includes governance body approval from a Board or Committee.\", \"Approval authority evidence includes a date of approval and a validity period.\", \"This documentation collectively provides conclusive evidence that the organization has developed a comprehensive cybersecurity strategy.\", \"This documentation collectively provides conclusive evidence that the organization has formally approved a comprehensive cybersecurity strategy.\", \"This documentation collectively provides conclusive evidence that the organization has committed to implementing a comprehensive cybersecurity strategy.\", \"The comprehensive cybersecurity strategy is aligned with national regulations.\", \"The comprehensive cybersecurity strategy is aligned with business objectives.\", \"The documents should be readily available for regulatory reviews.\", \"The documents should be readily available for audit purposes.\", \"The documents demonstrate the organization's commitment to cybersecurity governance.\"]}. Got: 1 validation error for StringIO\n",
            "text\n",
            "  Field required [type=missing, input_value={'statements': ['Based on...rsecurity governance.\"]}, input_type=dict]\n",
            "    For further information visit https://errors.pydantic.dev/2.11/v/missing\n",
            "For troubleshooting, visit: https://python.langchain.com/docs/troubleshooting/errors/OUTPUT_PARSING_FAILURE )\n",
            "ERROR:ragas.executor:Exception raised in Job[443]: TimeoutError()\n",
            "ERROR:ragas.executor:Exception raised in Job[450]: TimeoutError()\n",
            "ERROR:ragas.executor:Exception raised in Job[457]: TimeoutError()\n",
            "ERROR:ragas.executor:Exception raised in Job[492]: OutputParserException(Failed to parse StringIO from completion {\"statements\": [\"Cybersecurity risk assessments should be conducted at multiple stages throughout the project lifecycle.\", \"Cybersecurity risk assessments should be conducted during the Project Initiation Phase.\", \"Initial risk screening should be conducted during project conceptualization.\", \"High-level risk identification should be conducted before resource commitment.\", \"Feasibility assessment including cybersecurity considerations should be conducted.\", \"Cybersecurity risk assessments should be conducted during the Requirements Gathering Phase.\", \"Detailed risk assessment should be conducted during requirements analysis.\", \"Security requirements definition based on risk assessment should be conducted.\", \"Compliance requirements integration should be conducted.\", \"Cybersecurity risk assessments should be conducted during the Design Phase.\", \"Architecture risk assessment should be conducted.\", \"Threat modeling for proposed solutions should be conducted.\", \"Control design validation against identified risks should be conducted.\", \"Cybersecurity risk assessments should be conducted during the Development and Implementation Phase.\", \"Continuous risk assessment should be conducted during agile sprints.\", \"Code-level risk analysis should be conducted.\", \"Third-party component risk assessment should be conducted.\", \"Comprehensive risk assessment should be conducted before deployment.\", \"Penetration test results integration should be conducted.\", \"Final risk acceptance review should be conducted.\", \"Cybersecurity risk assessments should be conducted during the Post-Implementation Phase.\", \"Operational risk assessment should be conducted during go-live.\", \"Production environment validation should be conducted.\", \"User access risk review should be conducted.\", \"Periodic risk reassessments should be conducted at least annually during operation.\", \"Risk review after significant changes should be conducted during operation.\", \"Incident-driven risk assessments following security events should be conducted during operation.\", \"Cybersecurity risk assessments should be conducted as Trigger-Based Assessments.\", \"Change-Driven Assessments should be conducted after major system modifications.\", \"Change-Driven Assessments should be conducted when adding new integrations.\", \"Change-Driven Assessments should be conducted during technology stack changes.\", \"Event-Driven Assessments should be conducted following security incidents.\", \"Event-Driven Assessments should be conducted after regulatory changes.\", \"Event-Driven Assessments should be conducted when threat landscape significantly evolves.\", \"Assessment Documentation Requirements should be met for each assessment.\", \"Risk assessment report with findings should be produced for each assessment.\", \"Risk treatment plan should be produced for each assessment.\", \"Residual risk acceptance documentation should be produced for each assessment.\", \"Tracking and Monitoring should be performed.\", \"Risk register updates should be performed.\", \"Treatment plan implementation tracking should be performed.\", \"Risk indicator monitoring should be performed.\", \"Key Integration Points should be established with Project Governance.\", \"Stage-gate review inclusion should be established with Project Governance.\", \"Project approval dependency should be established with Project Governance.\", \"Budget allocation alignment should be established with Project Governance.\", \"Key Integration Points should be established with Operational Processes.\", \"Integration with change management should be established with Operational Processes.\", \"Alignment with incident response should be established with Operational Processes.\", \"Connection to continuity planning should be established with Operational Processes.\", \"Minimum Required Frequency for assessments should be followed.\", \"Initial assessment should be conducted before project approval.\", \"Major milestone assessments should be conducted during development.\", \"Pre-deployment assessment should be conducted before go-live.\", \"Annual reassessments should be conducted during operations.\", \"This approach ensures that cybersecurity risks are identified and addressed throughout the project lifecycle.\", \"This approach reduces the likelihood of security issues emerging late in the project.\", \"Security issues are more costly to address when emerging late in the project.\"]}. Got: 1 validation error for StringIO\n",
            "text\n",
            "  Field required [type=missing, input_value={'statements': ['Cybersec... late in the project.']}, input_type=dict]\n",
            "    For further information visit https://errors.pydantic.dev/2.11/v/missing\n",
            "For troubleshooting, visit: https://python.langchain.com/docs/troubleshooting/errors/OUTPUT_PARSING_FAILURE )\n",
            "ERROR:ragas.executor:Exception raised in Job[471]: TimeoutError()\n",
            "ERROR:ragas.executor:Exception raised in Job[478]: TimeoutError()\n",
            "ERROR:ragas.executor:Exception raised in Job[485]: TimeoutError()\n",
            "ERROR:ragas.executor:Exception raised in Job[499]: TimeoutError()\n",
            "ERROR:ragas.executor:Exception raised in Job[506]: TimeoutError()\n",
            "ERROR:ragas.executor:Exception raised in Job[513]: TimeoutError()\n",
            "ERROR:ragas.executor:Exception raised in Job[520]: TimeoutError()\n",
            "ERROR:ragas.executor:Exception raised in Job[527]: TimeoutError()\n",
            "ERROR:ragas.executor:Exception raised in Job[534]: TimeoutError()\n",
            "ERROR:ragas.executor:Exception raised in Job[541]: TimeoutError()\n",
            "ERROR:ragas.executor:Exception raised in Job[548]: TimeoutError()\n",
            "ERROR:ragas.executor:Exception raised in Job[555]: TimeoutError()\n",
            "ERROR:ragas.executor:Exception raised in Job[562]: OutputParserException(Failed to parse StringIO from completion {\"statements\": [\"The approved controls, particularly Control 3-1 and related implementation guidelines, provide documentation that proves cybersecurity requirements for Business Continuity Management have been reviewed periodically.\", \"Formal review documentation includes scheduled review records.\", \"Scheduled review records include annual review meeting minutes with attendees and agendas.\", \"Scheduled review records include a BCM cybersecurity review calendar showing planned review dates.\", \"Scheduled review records include review completion certificates signed by responsible parties.\", \"Formal review documentation includes management review evidence.\", \"Management review evidence includes executive committee meeting minutes discussing BCM cybersecurity.\", \"Management review evidence includes board reports on BCM cybersecurity status.\", \"Management review evidence includes management review sign-offs on updated requirements.\", \"Assessment and evaluation documents include periodic assessment reports.\", \"Periodic assessment reports include yearly cybersecurity gap analysis for BCM.\", \"Periodic assessment reports include control effectiveness assessments.\", \"Periodic assessment reports include risk reassessment documents specific to BCM scenarios.\", \"Assessment and evaluation documents include testing and validation proof.\", \"Testing and validation proof includes annual DR drill reports with cybersecurity focus.\", \"Testing and validation proof includes tabletop exercise results including cyber scenarios.\", \"Testing and validation proof includes penetration test reports for recovery environments.\", \"Update and maintenance records include documentation updates.\", \"Documentation updates include version control history of BCM cybersecurity policies.\", \"Documentation updates include change logs showing updates to requirements.\", \"Documentation updates include obsolete document archive with retention dates.\", \"Update and maintenance records include continuous improvement proof.\", \"Continuous improvement proof includes lessons learned registers from incidents and exercises.\", \"Continuous improvement proof includes action item tracking reports from previous reviews.\", \"Continuous improvement proof includes improvement implementation evidence.\", \"Governance and compliance evidence includes compliance verification.\", \"Compliance verification includes regulatory compliance checklists.\", \"Compliance verification includes audit reports specifically addressing BCM cybersecurity.\", \"Compliance verification includes gap remediation plans and status updates.\", \"Governance and compliance evidence includes policy management.\", \"Policy management includes policy review schedules and adherence proof.\", \"Policy management includes stakeholder acknowledgment of updated policies.\", \"Policy management includes approval workflows for policy changes.\", \"Performance monitoring proof includes metrics and reporting.\", \"Metrics and reporting include quarterly performance reports on BCM cybersecurity.\", \"Metrics and reporting include KPI dashboards showing historical trends.\", \"Metrics and reporting include benchmarking reports against industry standards.\", \"Performance monitoring proof includes trend analysis.\", \"Trend analysis includes year-over-year comparison reports.\", \"Trend analysis includes emerging threat incorporation evidence.\", \"Trend analysis includes technology change impact assessments.\", \"Stakeholder engagement evidence includes review participation.\", \"Review participation includes attendance records for review meetings.\", \"Review participation includes stakeholder feedback documentation.\", \"Review participation includes departmental input records.\", \"Stakeholder engagement evidence includes communication proof.\", \"Communication proof includes review outcome distribution lists.\", \"Communication proof includes training records on updated requirements.\", \"Communication proof includes awareness campaign materials.\", \"Technical review evidence includes infrastructure assessments.\", \"Infrastructure assessments include DR environment security reviews.\", \"Infrastructure assessments include backup system validation reports.\", \"Infrastructure assessments include network configuration reviews.\", \"Technical review evidence includes security control reviews.\", \"Security control reviews include access control reassessments.\", \"Security control reviews include encryption implementation reviews.\", \"Security control reviews include monitoring capability assessments.\", \"Specific required artifacts include mandatory documents.\", \"Mandatory documents include annual BCM cybersecurity review report.\", \"Mandatory documents include management approval of reviewed requirements.\", \"Mandatory documents include updated RTO/RPO documentation with security considerations.\", \"Specific required artifacts include supporting evidence.\", \"Supporting evidence includes risk register updates reflecting review outcomes.\", \"Supporting evidence includes budget approval for required changes.\", \"Supporting evidence includes resource allocation records for implementation.\", \"Review cycle proof includes evidence of reviews conducted at planned intervals.\", \"Review cycle proof includes documentation showing review triggers such as changes, incidents, and audits.\", \"Review cycle proof includes proof of adherence to review schedule.\", \"All documentation must demonstrate regular periodic reviews at least annually.\", \"All documentation must demonstrate a formal approval process for updates.\", \"All documentation must demonstrate integration with overall BCM framework.\", \"All documentation must demonstrate alignment with organizational risk appetite.\", \"All documentation must demonstrate compliance with regulatory requirements.\", \"This comprehensive documentation provides auditable evidence that cybersecurity requirements for BCM are reviewed periodically.\", \"This comprehensive documentation provides auditable evidence that cybersecurity requirements for BCM are updated based on changing threats.\", \"This comprehensive documentation provides auditable evidence that cybersecurity requirements for BCM are updated based on business needs.\", \"This comprehensive documentation provides auditable evidence that cybersecurity requirements for BCM are updated based on regulatory landscape.\"]}. Got: 1 validation error for StringIO\n",
            "text\n",
            "  Field required [type=missing, input_value={'statements': ['The appr...regulatory landscape.']}, input_type=dict]\n",
            "    For further information visit https://errors.pydantic.dev/2.11/v/missing\n",
            "For troubleshooting, visit: https://python.langchain.com/docs/troubleshooting/errors/OUTPUT_PARSING_FAILURE )\n",
            "ERROR:ragas.executor:Exception raised in Job[569]: TimeoutError()\n",
            "ERROR:ragas.executor:Exception raised in Job[576]: TimeoutError()\n",
            "ERROR:ragas.executor:Exception raised in Job[583]: TimeoutError()\n",
            "ERROR:ragas.executor:Exception raised in Job[590]: TimeoutError()\n",
            "ERROR:ragas.executor:Exception raised in Job[597]: TimeoutError()\n",
            "ERROR:ragas.executor:Exception raised in Job[604]: TimeoutError()\n",
            "ERROR:ragas.executor:Exception raised in Job[611]: TimeoutError()\n",
            "ERROR:ragas.executor:Exception raised in Job[618]: TimeoutError()\n",
            "ERROR:ragas.executor:Exception raised in Job[625]: TimeoutError()\n",
            "ERROR:ragas.executor:Exception raised in Job[632]: TimeoutError()\n",
            "ERROR:ragas.executor:Exception raised in Job[639]: TimeoutError()\n",
            "ERROR:ragas.executor:Exception raised in Job[646]: TimeoutError()\n",
            "ERROR:ragas.executor:Exception raised in Job[653]: TimeoutError()\n",
            "ERROR:ragas.executor:Exception raised in Job[660]: TimeoutError()\n",
            "ERROR:ragas.executor:Exception raised in Job[667]: TimeoutError()\n",
            "ERROR:ragas.executor:Exception raised in Job[674]: TimeoutError()\n",
            "ERROR:ragas.executor:Exception raised in Job[681]: TimeoutError()\n",
            "ERROR:ragas.executor:Exception raised in Job[688]: TimeoutError()\n",
            "ERROR:ragas.executor:Exception raised in Job[695]: TimeoutError()\n",
            "ERROR:ragas.executor:Exception raised in Job[702]: TimeoutError()\n",
            "ERROR:ragas.executor:Exception raised in Job[709]: TimeoutError()\n",
            "ERROR:ragas.executor:Exception raised in Job[716]: TimeoutError()\n",
            "ERROR:ragas.executor:Exception raised in Job[723]: TimeoutError()\n",
            "ERROR:ragas.executor:Exception raised in Job[730]: TimeoutError()\n",
            "ERROR:ragas.executor:Exception raised in Job[737]: TimeoutError()\n"
          ]
        }
      ],
      "source": [
        "result_3 = evaluate(dataset=evaluation_dataset, metrics=metrics, llm=evaluator_llm)"
      ]
    },
    {
      "cell_type": "code",
      "execution_count": 53,
      "metadata": {
        "colab": {
          "base_uri": "https://localhost:8080/"
        },
        "id": "0FD9cGo2Vt5o",
        "outputId": "ee6ab85d-fd6a-48d1-bdce-3490e83e6412"
      },
      "outputs": [
        {
          "data": {
            "text/plain": [
              "{'non_llm_context_precision_with_reference': 0.5710, 'non_llm_context_recall': 0.4737, 'noise_sensitivity(mode=relevant)': nan, 'nv_response_groundedness': 0.5377, 'nv_accuracy': 0.6297, 'llm_context_precision_with_reference': 0.6796, 'context_recall': 0.8275}"
            ]
          },
          "execution_count": 53,
          "metadata": {},
          "output_type": "execute_result"
        }
      ],
      "source": [
        "result_3"
      ]
    },
    {
      "cell_type": "code",
      "execution_count": 64,
      "metadata": {
        "colab": {
          "base_uri": "https://localhost:8080/"
        },
        "id": "KMwxOzpvZWpa",
        "outputId": "39d8b4eb-7890-4b3d-c60f-bd6e0d1d0361"
      },
      "outputs": [
        {
          "data": {
            "text/plain": [
              "ragas.dataset_schema.EvaluationResult"
            ]
          },
          "execution_count": 64,
          "metadata": {},
          "output_type": "execute_result"
        }
      ],
      "source": [
        "type(result_3)"
      ]
    },
    {
      "cell_type": "code",
      "execution_count": 66,
      "metadata": {
        "colab": {
          "base_uri": "https://localhost:8080/",
          "height": 209
        },
        "id": "1AbpuCx2Ygmw",
        "outputId": "e70fd654-e36c-4537-a363-a5ad23d89618"
      },
      "outputs": [
        {
          "data": {
            "text/html": [
              "<div>\n",
              "<style scoped>\n",
              "    .dataframe tbody tr th:only-of-type {\n",
              "        vertical-align: middle;\n",
              "    }\n",
              "\n",
              "    .dataframe tbody tr th {\n",
              "        vertical-align: top;\n",
              "    }\n",
              "\n",
              "    .dataframe thead th {\n",
              "        text-align: right;\n",
              "    }\n",
              "</style>\n",
              "<table border=\"1\" class=\"dataframe\">\n",
              "  <thead>\n",
              "    <tr style=\"text-align: right;\">\n",
              "      <th></th>\n",
              "      <th>0</th>\n",
              "    </tr>\n",
              "  </thead>\n",
              "  <tbody>\n",
              "    <tr>\n",
              "      <th>nv_response_groundedness</th>\n",
              "      <td>0.537736</td>\n",
              "    </tr>\n",
              "    <tr>\n",
              "      <th>nv_accuracy</th>\n",
              "      <td>0.629717</td>\n",
              "    </tr>\n",
              "    <tr>\n",
              "      <th>llm_context_precision_with_reference</th>\n",
              "      <td>0.679578</td>\n",
              "    </tr>\n",
              "    <tr>\n",
              "      <th>context_recall</th>\n",
              "      <td>0.827538</td>\n",
              "    </tr>\n",
              "  </tbody>\n",
              "</table>\n",
              "</div><br><label><b>dtype:</b> float64</label>"
            ],
            "text/plain": [
              "nv_response_groundedness                0.537736\n",
              "nv_accuracy                             0.629717\n",
              "llm_context_precision_with_reference    0.679578\n",
              "context_recall                          0.827538\n",
              "dtype: float64"
            ]
          },
          "execution_count": 66,
          "metadata": {},
          "output_type": "execute_result"
        }
      ],
      "source": [
        "result_3.to_pandas().iloc[:, 5:].mean()"
      ]
    },
    {
      "cell_type": "markdown",
      "metadata": {
        "id": "ftuCg6cce43O"
      },
      "source": [
        "## plot results"
      ]
    },
    {
      "cell_type": "code",
      "execution_count": 79,
      "metadata": {
        "id": "iD9D04pjYPy_"
      },
      "outputs": [],
      "source": [
        "\n",
        "# Convert the dictionary to a pandas Series and drop NaN values\n",
        "scores_series = result_3.to_pandas().iloc[:, 5:].mean()\n",
        "\n",
        "# Convert the Series to a DataFrame for plotting\n",
        "df = scores_series.reset_index()\n",
        "df.columns = ['Metric', 'Score']"
      ]
    },
    {
      "cell_type": "code",
      "execution_count": 83,
      "metadata": {
        "colab": {
          "base_uri": "https://localhost:8080/",
          "height": 545
        },
        "id": "7PW2j7MyaouQ",
        "outputId": "9d4843ae-30e7-4b7c-dc67-ddc6047853ad"
      },
      "outputs": [
        {
          "data": {
            "image/png": "[encoded data removed]",
            "text/plain": [
              "<Figure size 1000x600 with 1 Axes>"
            ]
          },
          "metadata": {},
          "output_type": "display_data"
        },
        {
          "data": {
            "text/plain": [
              "<Figure size 640x480 with 0 Axes>"
            ]
          },
          "metadata": {},
          "output_type": "display_data"
        }
      ],
      "source": [
        "cmap = cm.Blues\n",
        "colors = cmap(df['Score'])\n",
        "\n",
        "\n",
        "# Create the bar chart\n",
        "plt.figure(figsize=(10, 6));\n",
        "plt.bar(df['Metric'], df['Score'], color=colors);\n",
        "\n",
        "# Add labels and title\n",
        "plt.ylabel('Score')\n",
        "plt.xlabel('Metric')\n",
        "plt.title('Ragas Evaluation Metrics')\n",
        "plt.ylim(0, 1.0) # Scores are typically between 0 and 1\n",
        "\n",
        "# Add score labels to the bars\n",
        "for index, value in enumerate(df['Score']):\n",
        "    plt.text( index, value + 0.02, f'{value:.4f}', va='center')\n",
        "\n",
        "# Ensure the layout is tight\n",
        "plt.tight_layout();\n",
        "\n",
        "plt.show();\n",
        "# Save the plot\n",
        "plt.savefig('ragas_evaluation_plot_2.png');\n",
        "\n",
        "# print(\"Plot generated and saved as 'ragas_evaluation_plot.png'\")"
      ]
    }
  ],
  "metadata": {
    "accelerator": "GPU",
    "colab": {
      "gpuType": "T4",
      "provenance": []
    },
    "kernelspec": {
      "display_name": "Python 3",
      "name": "python3"
    },
    "language_info": {
      "name": "python"
    },
    "widgets": {
      "application/vnd.jupyter.widget-state+json": {
        "00b409f756a74b27ae8917e0c09618de": {
          "model_module": "@jupyter-widgets/controls",
          "model_module_version": "1.5.0",
          "model_name": "FloatProgressModel",
          "state": {
            "_dom_classes": [],
            "_model_module": "@jupyter-widgets/controls",
            "_model_module_version": "1.5.0",
            "_model_name": "FloatProgressModel",
            "_view_count": null,
            "_view_module": "@jupyter-widgets/controls",
            "_view_module_version": "1.5.0",
            "_view_name": "ProgressView",
            "bar_style": "success",
            "description": "",
            "description_tooltip": null,
            "layout": "IPY_MODEL_9ed8ab92b61848078778792b6af7d02f",
            "max": 742,
            "min": 0,
            "orientation": "horizontal",
            "style": "IPY_MODEL_d6bae3b04f0a4a9f9cd5b7e4050b1acf",
            "value": 742
          }
        },
        "672e278a7a7f47daa9976342303e8ba8": {
          "model_module": "@jupyter-widgets/base",
          "model_module_version": "1.2.0",
          "model_name": "LayoutModel",
          "state": {
            "_model_module": "@jupyter-widgets/base",
            "_model_module_version": "1.2.0",
            "_model_name": "LayoutModel",
            "_view_count": null,
            "_view_module": "@jupyter-widgets/base",
            "_view_module_version": "1.2.0",
            "_view_name": "LayoutView",
            "align_content": null,
            "align_items": null,
            "align_self": null,
            "border": null,
            "bottom": null,
            "display": null,
            "flex": null,
            "flex_flow": null,
            "grid_area": null,
            "grid_auto_columns": null,
            "grid_auto_flow": null,
            "grid_auto_rows": null,
            "grid_column": null,
            "grid_gap": null,
            "grid_row": null,
            "grid_template_areas": null,
            "grid_template_columns": null,
            "grid_template_rows": null,
            "height": null,
            "justify_content": null,
            "justify_items": null,
            "left": null,
            "margin": null,
            "max_height": null,
            "max_width": null,
            "min_height": null,
            "min_width": null,
            "object_fit": null,
            "object_position": null,
            "order": null,
            "overflow": null,
            "overflow_x": null,
            "overflow_y": null,
            "padding": null,
            "right": null,
            "top": null,
            "visibility": null,
            "width": null
          }
        },
        "7ed7aaa9a2704ee8ade676528a2c0ba2": {
          "model_module": "@jupyter-widgets/controls",
          "model_module_version": "1.5.0",
          "model_name": "DescriptionStyleModel",
          "state": {
            "_model_module": "@jupyter-widgets/controls",
            "_model_module_version": "1.5.0",
            "_model_name": "DescriptionStyleModel",
            "_view_count": null,
            "_view_module": "@jupyter-widgets/base",
            "_view_module_version": "1.2.0",
            "_view_name": "StyleView",
            "description_width": ""
          }
        },
        "8004f0a391a24f83831d203c1b9d1f85": {
          "model_module": "@jupyter-widgets/controls",
          "model_module_version": "1.5.0",
          "model_name": "HTMLModel",
          "state": {
            "_dom_classes": [],
            "_model_module": "@jupyter-widgets/controls",
            "_model_module_version": "1.5.0",
            "_model_name": "HTMLModel",
            "_view_count": null,
            "_view_module": "@jupyter-widgets/controls",
            "_view_module_version": "1.5.0",
            "_view_name": "HTMLView",
            "description": "",
            "description_tooltip": null,
            "layout": "IPY_MODEL_e3b816b08551413782d784c45b1a1ab6",
            "placeholder": "​",
            "style": "IPY_MODEL_7ed7aaa9a2704ee8ade676528a2c0ba2",
            "value": " 742/742 [31:07&lt;00:00, 14.97s/it]"
          }
        },
        "879a30bd390b4be4bb8b7938fd835291": {
          "model_module": "@jupyter-widgets/controls",
          "model_module_version": "1.5.0",
          "model_name": "DescriptionStyleModel",
          "state": {
            "_model_module": "@jupyter-widgets/controls",
            "_model_module_version": "1.5.0",
            "_model_name": "DescriptionStyleModel",
            "_view_count": null,
            "_view_module": "@jupyter-widgets/base",
            "_view_module_version": "1.2.0",
            "_view_name": "StyleView",
            "description_width": ""
          }
        },
        "9ed8ab92b61848078778792b6af7d02f": {
          "model_module": "@jupyter-widgets/base",
          "model_module_version": "1.2.0",
          "model_name": "LayoutModel",
          "state": {
            "_model_module": "@jupyter-widgets/base",
            "_model_module_version": "1.2.0",
            "_model_name": "LayoutModel",
            "_view_count": null,
            "_view_module": "@jupyter-widgets/base",
            "_view_module_version": "1.2.0",
            "_view_name": "LayoutView",
            "align_content": null,
            "align_items": null,
            "align_self": null,
            "border": null,
            "bottom": null,
            "display": null,
            "flex": null,
            "flex_flow": null,
            "grid_area": null,
            "grid_auto_columns": null,
            "grid_auto_flow": null,
            "grid_auto_rows": null,
            "grid_column": null,
            "grid_gap": null,
            "grid_row": null,
            "grid_template_areas": null,
            "grid_template_columns": null,
            "grid_template_rows": null,
            "height": null,
            "justify_content": null,
            "justify_items": null,
            "left": null,
            "margin": null,
            "max_height": null,
            "max_width": null,
            "min_height": null,
            "min_width": null,
            "object_fit": null,
            "object_position": null,
            "order": null,
            "overflow": null,
            "overflow_x": null,
            "overflow_y": null,
            "padding": null,
            "right": null,
            "top": null,
            "visibility": null,
            "width": null
          }
        },
        "b6b404345b704b33bc012a4bc7f6af3a": {
          "model_module": "@jupyter-widgets/base",
          "model_module_version": "1.2.0",
          "model_name": "LayoutModel",
          "state": {
            "_model_module": "@jupyter-widgets/base",
            "_model_module_version": "1.2.0",
            "_model_name": "LayoutModel",
            "_view_count": null,
            "_view_module": "@jupyter-widgets/base",
            "_view_module_version": "1.2.0",
            "_view_name": "LayoutView",
            "align_content": null,
            "align_items": null,
            "align_self": null,
            "border": null,
            "bottom": null,
            "display": null,
            "flex": null,
            "flex_flow": null,
            "grid_area": null,
            "grid_auto_columns": null,
            "grid_auto_flow": null,
            "grid_auto_rows": null,
            "grid_column": null,
            "grid_gap": null,
            "grid_row": null,
            "grid_template_areas": null,
            "grid_template_columns": null,
            "grid_template_rows": null,
            "height": null,
            "justify_content": null,
            "justify_items": null,
            "left": null,
            "margin": null,
            "max_height": null,
            "max_width": null,
            "min_height": null,
            "min_width": null,
            "object_fit": null,
            "object_position": null,
            "order": null,
            "overflow": null,
            "overflow_x": null,
            "overflow_y": null,
            "padding": null,
            "right": null,
            "top": null,
            "visibility": null,
            "width": null
          }
        },
        "ca5951e306624c4a9713b666b9206fda": {
          "model_module": "@jupyter-widgets/controls",
          "model_module_version": "1.5.0",
          "model_name": "HTMLModel",
          "state": {
            "_dom_classes": [],
            "_model_module": "@jupyter-widgets/controls",
            "_model_module_version": "1.5.0",
            "_model_name": "HTMLModel",
            "_view_count": null,
            "_view_module": "@jupyter-widgets/controls",
            "_view_module_version": "1.5.0",
            "_view_name": "HTMLView",
            "description": "",
            "description_tooltip": null,
            "layout": "IPY_MODEL_672e278a7a7f47daa9976342303e8ba8",
            "placeholder": "​",
            "style": "IPY_MODEL_879a30bd390b4be4bb8b7938fd835291",
            "value": "Evaluating: 100%"
          }
        },
        "d6bae3b04f0a4a9f9cd5b7e4050b1acf": {
          "model_module": "@jupyter-widgets/controls",
          "model_module_version": "1.5.0",
          "model_name": "ProgressStyleModel",
          "state": {
            "_model_module": "@jupyter-widgets/controls",
            "_model_module_version": "1.5.0",
            "_model_name": "ProgressStyleModel",
            "_view_count": null,
            "_view_module": "@jupyter-widgets/base",
            "_view_module_version": "1.2.0",
            "_view_name": "StyleView",
            "bar_color": null,
            "description_width": ""
          }
        },
        "e3b816b08551413782d784c45b1a1ab6": {
          "model_module": "@jupyter-widgets/base",
          "model_module_version": "1.2.0",
          "model_name": "LayoutModel",
          "state": {
            "_model_module": "@jupyter-widgets/base",
            "_model_module_version": "1.2.0",
            "_model_name": "LayoutModel",
            "_view_count": null,
            "_view_module": "@jupyter-widgets/base",
            "_view_module_version": "1.2.0",
            "_view_name": "LayoutView",
            "align_content": null,
            "align_items": null,
            "align_self": null,
            "border": null,
            "bottom": null,
            "display": null,
            "flex": null,
            "flex_flow": null,
            "grid_area": null,
            "grid_auto_columns": null,
            "grid_auto_flow": null,
            "grid_auto_rows": null,
            "grid_column": null,
            "grid_gap": null,
            "grid_row": null,
            "grid_template_areas": null,
            "grid_template_columns": null,
            "grid_template_rows": null,
            "height": null,
            "justify_content": null,
            "justify_items": null,
            "left": null,
            "margin": null,
            "max_height": null,
            "max_width": null,
            "min_height": null,
            "min_width": null,
            "object_fit": null,
            "object_position": null,
            "order": null,
            "overflow": null,
            "overflow_x": null,
            "overflow_y": null,
            "padding": null,
            "right": null,
            "top": null,
            "visibility": null,
            "width": null
          }
        },
        "ff91d3ef97d4457caa1ce5425ec97f9d": {
          "model_module": "@jupyter-widgets/controls",
          "model_module_version": "1.5.0",
          "model_name": "HBoxModel",
          "state": {
            "_dom_classes": [],
            "_model_module": "@jupyter-widgets/controls",
            "_model_module_version": "1.5.0",
            "_model_name": "HBoxModel",
            "_view_count": null,
            "_view_module": "@jupyter-widgets/controls",
            "_view_module_version": "1.5.0",
            "_view_name": "HBoxView",
            "box_style": "",
            "children": [
              "IPY_MODEL_ca5951e306624c4a9713b666b9206fda",
              "IPY_MODEL_00b409f756a74b27ae8917e0c09618de",
              "IPY_MODEL_8004f0a391a24f83831d203c1b9d1f85"
            ],
            "layout": "IPY_MODEL_b6b404345b704b33bc012a4bc7f6af3a"
          }
        }
      }
    }
  },
  "nbformat": 4,
  "nbformat_minor": 0
}
